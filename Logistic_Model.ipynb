{
 "cells": [
  {
   "cell_type": "code",
   "execution_count": 1,
   "id": "b8f42f42",
   "metadata": {},
   "outputs": [],
   "source": [
    "import pandas as pd\n",
    "from sklearn.model_selection import train_test_split\n",
    "from sklearn.preprocessing import StandardScaler\n",
    "from sklearn.impute import SimpleImputer\n",
    "from sklearn.preprocessing import OneHotEncoder\n",
    "from sklearn.compose import ColumnTransformer\n",
    "from sklearn.pipeline import Pipeline\n",
    "from sklearn.linear_model import LogisticRegression\n",
    "from sklearn.multioutput import MultiOutputClassifier\n",
    "from sklearn.metrics import roc_auc_score\n"
   ]
  },
  {
   "cell_type": "code",
   "execution_count": 2,
   "id": "d9103bb2",
   "metadata": {},
   "outputs": [],
   "source": [
    "# Load datasets\n",
    "#training_set_features = pd.read_csv(r\"D:\\DOCS\\malak\\training_set_labels.csv\")\n",
    "training_set_features = pd.read_csv('dataset/training_set_features.csv')\n",
    "#training_set_labels = pd.read_csv(r\"D:\\DOCS\\malak\\training_set_features.csv\")\n",
    "training_set_labels = pd.read_csv('dataset/training_set_labels.csv')\n",
    "#test_set_features = pd.read_csv(r\"D:\\DOCS\\malak\\test_set_features.csv\")\n",
    "test_set_features = pd.read_csv('dataset/test_set_features.csv')\n",
    "#submission_format = pd.read_csv(r\"D:\\DOCS\\malak\\submission_format.csv\")\n",
    "submission_format = pd.read_csv('dataset/submission_format.csv')"
   ]
  },
  {
   "cell_type": "code",
   "execution_count": 3,
   "id": "1b580e9a",
   "metadata": {},
   "outputs": [
    {
     "data": {
      "text/plain": [
       "(Index(['respondent_id', 'xyz_vaccine', 'seasonal_vaccine'], dtype='object'),\n",
       " Index(['respondent_id', 'xyz_concern', 'xyz_knowledge',\n",
       "        'behavioral_antiviral_meds', 'behavioral_avoidance',\n",
       "        'behavioral_face_mask', 'behavioral_wash_hands',\n",
       "        'behavioral_large_gatherings', 'behavioral_outside_home',\n",
       "        'behavioral_touch_face', 'doctor_recc_xyz', 'doctor_recc_seasonal',\n",
       "        'chronic_med_condition', 'child_under_6_months', 'health_worker',\n",
       "        'health_insurance', 'opinion_xyz_vacc_effective', 'opinion_xyz_risk',\n",
       "        'opinion_xyz_sick_from_vacc', 'opinion_seas_vacc_effective',\n",
       "        'opinion_seas_risk', 'opinion_seas_sick_from_vacc', 'age_group',\n",
       "        'education', 'race', 'sex', 'income_poverty', 'marital_status',\n",
       "        'rent_or_own', 'employment_status', 'hhs_geo_region', 'census_msa',\n",
       "        'household_adults', 'household_children', 'employment_industry',\n",
       "        'employment_occupation'],\n",
       "       dtype='object'),\n",
       " Index(['respondent_id', 'xyz_concern', 'xyz_knowledge',\n",
       "        'behavioral_antiviral_meds', 'behavioral_avoidance',\n",
       "        'behavioral_face_mask', 'behavioral_wash_hands',\n",
       "        'behavioral_large_gatherings', 'behavioral_outside_home',\n",
       "        'behavioral_touch_face', 'doctor_recc_xyz', 'doctor_recc_seasonal',\n",
       "        'chronic_med_condition', 'child_under_6_months', 'health_worker',\n",
       "        'health_insurance', 'opinion_xyz_vacc_effective', 'opinion_xyz_risk',\n",
       "        'opinion_xyz_sick_from_vacc', 'opinion_seas_vacc_effective',\n",
       "        'opinion_seas_risk', 'opinion_seas_sick_from_vacc', 'age_group',\n",
       "        'education', 'race', 'sex', 'income_poverty', 'marital_status',\n",
       "        'rent_or_own', 'employment_status', 'hhs_geo_region', 'census_msa',\n",
       "        'household_adults', 'household_children', 'employment_industry',\n",
       "        'employment_occupation'],\n",
       "       dtype='object'),\n",
       " Index(['respondent_id', 'h1n1_vaccine', 'seasonal_vaccine'], dtype='object'))"
      ]
     },
     "execution_count": 3,
     "metadata": {},
     "output_type": "execute_result"
    }
   ],
   "source": [
    "training_set_features.columns, training_set_labels.columns, test_set_features.columns, submission_format.columns"
   ]
  },
  {
   "cell_type": "code",
   "execution_count": 4,
   "id": "34596668",
   "metadata": {},
   "outputs": [],
   "source": [
    "# Merge the training features and labels\n",
    "df_train = pd.merge(training_set_features, training_set_labels, on='respondent_id')\n",
    "\n",
    "X = df_train.drop(columns=['respondent_id', 'xyz_vaccine', 'seasonal_vaccine'])\n",
    "y = df_train[['xyz_vaccine', 'seasonal_vaccine']]\n",
    "\n",
    "# Split the data into training and validation sets\n",
    "X_train, X_valid, y_train, y_valid = train_test_split(X, y, test_size=0.2, random_state=42)"
   ]
  },
  {
   "cell_type": "code",
   "execution_count": 5,
   "id": "b943974a",
   "metadata": {},
   "outputs": [],
   "source": [
    "# Identify categorical and numerical columns\n",
    "categorical_cols = [cname for cname in X.columns if X[cname].dtype == \"object\"]\n",
    "numerical_cols = [cname for cname in X.columns if X[cname].dtype in ['int64', 'float64']]\n",
    "\n",
    "# Preprocessing for numerical data\n",
    "numerical_transformer = Pipeline(steps=[\n",
    "    ('imputer', SimpleImputer(strategy='median')),\n",
    "    ('scaler', StandardScaler())])\n",
    "\n",
    "# Preprocessing for categorical data\n",
    "categorical_transformer = Pipeline(steps=[\n",
    "    ('onehot', OneHotEncoder(handle_unknown='ignore'))])"
   ]
  },
  {
   "cell_type": "code",
   "execution_count": 6,
   "id": "dcd216c4",
   "metadata": {},
   "outputs": [],
   "source": [
    "# Bundle preprocessing for numerical and categorical data\n",
    "preprocessor = ColumnTransformer(\n",
    "    transformers=[\n",
    "        ('num', numerical_transformer, numerical_cols),\n",
    "        ('cat', categorical_transformer, categorical_cols)\n",
    "    ]\n",
    ")"
   ]
  },
  {
   "cell_type": "code",
   "execution_count": 10,
   "id": "e99531b3",
   "metadata": {},
   "outputs": [
    {
     "name": "stdout",
     "output_type": "stream",
     "text": [
      "\n",
      "Logistic Regression - xyz_vaccine Results:\n",
      "ROC AUC: 0.8317842405600517\n",
      "\n",
      "Logistic Regression - seasonal_vaccine Results:\n",
      "ROC AUC: 0.8560890655040101\n"
     ]
    }
   ],
   "source": [
    "# Define the Logistic Regression models for each target separately\n",
    "logreg_xyz = LogisticRegression(solver='liblinear', random_state=42)\n",
    "logreg_seasonal = LogisticRegression(solver='liblinear', random_state=42)\n",
    "\n",
    "# Pipeline for xyz_vaccine\n",
    "pipeline_xyz = Pipeline(steps=[\n",
    "    ('preprocessor', preprocessor),\n",
    "    ('classifier', logreg_xyz)\n",
    "])\n",
    "\n",
    "# Pipeline for seasonal_vaccine\n",
    "pipeline_seasonal = Pipeline(steps=[\n",
    "    ('preprocessor', preprocessor),\n",
    "    ('classifier', logreg_seasonal)\n",
    "])\n",
    "\n",
    "# Train and evaluate each model\n",
    "for name, pipeline in [('Logistic Regression - xyz_vaccine', pipeline_xyz), ('Logistic Regression - seasonal_vaccine', pipeline_seasonal)]:\n",
    "    pipeline.fit(X_train, y_train[name.split(' - ')[-1]])\n",
    "    \n",
    "    # Predict probabilities on validation set\n",
    "    y_valid_pred = pipeline.predict_proba(X_valid)[:, 1]\n",
    "    \n",
    "    # Calculate ROC AUC\n",
    "    roc_auc = roc_auc_score(y_valid[name.split(' - ')[-1]], y_valid_pred)\n",
    "    \n",
    "    print(f'\\n{name} Results:')\n",
    "    print(f'ROC AUC: {roc_auc}')"
   ]
  },
  {
   "cell_type": "code",
   "execution_count": 13,
   "id": "0210276c",
   "metadata": {},
   "outputs": [
    {
     "name": "stdout",
     "output_type": "stream",
     "text": [
      "Submission Done\n"
     ]
    }
   ],
   "source": [
    "# Prepare test set for submission\n",
    "X_test = test_set_features.drop(columns=['respondent_id'])\n",
    "\n",
    "# Predict probabilities on test set\n",
    "y_test_pred_xyz = pipeline_xyz.predict_proba(X_test)[:, 1]\n",
    "y_test_pred_seasonal = pipeline_seasonal.predict_proba(X_test)[:, 1]\n",
    "\n",
    "# Prepare submission dataframe\n",
    "df_submission = pd.DataFrame({\n",
    "    'respondent_id': test_set_features['respondent_id'],\n",
    "    'xyz_vaccine': y_test_pred_xyz,\n",
    "    'seasonal_vaccine': y_test_pred_seasonal\n",
    "})\n",
    "\n",
    "# Save submission file\n",
    "#submission_file_path = r\"D:\\DOCS\\submission_format.csv\" \n",
    "submission_file_path = \"submission_format.csv\" \n",
    "df_submission.to_csv(submission_file_path, index=False)\n",
    "\n",
    "print(f'Submission Done')"
   ]
  }
 ],
 "metadata": {
  "kernelspec": {
   "display_name": "Python 3 (ipykernel)",
   "language": "python",
   "name": "python3"
  },
  "language_info": {
   "codemirror_mode": {
    "name": "ipython",
    "version": 3
   },
   "file_extension": ".py",
   "mimetype": "text/x-python",
   "name": "python",
   "nbconvert_exporter": "python",
   "pygments_lexer": "ipython3",
   "version": "3.11.7"
  }
 },
 "nbformat": 4,
 "nbformat_minor": 5
}
